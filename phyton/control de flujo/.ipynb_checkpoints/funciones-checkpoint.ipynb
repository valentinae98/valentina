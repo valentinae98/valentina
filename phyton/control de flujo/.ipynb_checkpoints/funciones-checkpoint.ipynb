{
 "cells": [
  {
   "cell_type": "markdown",
   "metadata": {},
   "source": [
    "# Funciones  "
   ]
  },
  {
   "cell_type": "code",
   "execution_count": 3,
   "metadata": {},
   "outputs": [
    {
     "name": "stdout",
     "output_type": "stream",
     "text": [
      "hola mundo\n"
     ]
    }
   ],
   "source": [
    "def miFuncion():\n",
    "    print(\"hola mundo\")\n",
    "miFuncion()"
   ]
  },
  {
   "cell_type": "code",
   "execution_count": 4,
   "metadata": {},
   "outputs": [
    {
     "name": "stdout",
     "output_type": "stream",
     "text": [
      "hola! simon\n"
     ]
    }
   ],
   "source": [
    "def saludopersonalizado(nombre):\n",
    "    print(\"hola!\", nombre)\n",
    "saludopersonalizado(\"simon\")"
   ]
  },
  {
   "cell_type": "code",
   "execution_count": 5,
   "metadata": {},
   "outputs": [
    {
     "name": "stdout",
     "output_type": "stream",
     "text": [
      "hola! maria\n",
      "hola! jose\n",
      "hola! daniela\n"
     ]
    }
   ],
   "source": [
    "saludopersonalizado(\"maria\")\n",
    "saludopersonalizado(\"jose\")\n",
    "saludopersonalizado(\"daniela\")\n"
   ]
  },
  {
   "cell_type": "code",
   "execution_count": 7,
   "metadata": {},
   "outputs": [
    {
     "data": {
      "text/plain": [
       "16"
      ]
     },
     "execution_count": 7,
     "metadata": {},
     "output_type": "execute_result"
    }
   ],
   "source": [
    "def elevarpotencia(numero, potencia):\n",
    "    return numero ** potencia\n",
    "elevarpotencia(2,4)"
   ]
  },
  {
   "cell_type": "code",
   "execution_count": 8,
   "metadata": {},
   "outputs": [
    {
     "name": "stdout",
     "output_type": "stream",
     "text": [
      "10\n"
     ]
    }
   ],
   "source": [
    "def mifunciondetener(numero):\n",
    "    \n",
    "    if numero is None:\n",
    "        return \n",
    "    else:\n",
    "        print(numero)\n",
    "numero = 10\n",
    "mifunciondetener(numero)"
   ]
  },
  {
   "cell_type": "code",
   "execution_count": 29,
   "metadata": {},
   "outputs": [
    {
     "ename": "IndentationError",
     "evalue": "unexpected indent (<ipython-input-29-aad880e985d4>, line 6)",
     "output_type": "error",
     "traceback": [
      "\u001b[1;36m  File \u001b[1;32m\"<ipython-input-29-aad880e985d4>\"\u001b[1;36m, line \u001b[1;32m6\u001b[0m\n\u001b[1;33m    if (ndiv != 2):\u001b[0m\n\u001b[1;37m    ^\u001b[0m\n\u001b[1;31mIndentationError\u001b[0m\u001b[1;31m:\u001b[0m unexpected indent\n"
     ]
    }
   ],
   "source": [
    "def isprimo(n):\n",
    "    ndiv=0\n",
    "    for i in range (1,n+1):\n",
    "        if (n % i ==0): \n",
    "            ndiv+1\n",
    "        if (ndiv != 2):\n",
    "            print (\"no es primo\")\n",
    "        else:\n",
    "            print (\"si es primo\")\n",
    "\n",
    "isprimo(10)\n",
    "                            \n",
    "\n",
    "            \n"
   ]
  },
  {
   "cell_type": "code",
   "execution_count": 26,
   "metadata": {},
   "outputs": [
    {
     "name": "stdout",
     "output_type": "stream",
     "text": [
      "no es primo\n",
      "no es primo\n",
      "no es primo\n",
      "no es primo\n",
      "no es primo\n",
      "no es primo\n",
      "no es primo\n",
      "no es primo\n",
      "no es primo\n",
      "no es primo\n"
     ]
    }
   ],
   "source": []
  },
  {
   "cell_type": "markdown",
   "metadata": {
    "collapsed": true
   },
   "source": [
    "# funcion con parametros de lista"
   ]
  },
  {
   "cell_type": "code",
   "execution_count": 2,
   "metadata": {},
   "outputs": [
    {
     "name": "stdout",
     "output_type": "stream",
     "text": [
      "2\n",
      "3\n",
      "donald\n",
      "True\n"
     ]
    }
   ],
   "source": [
    "def mifuncionlista(lista):\n",
    "    for elemento in lista:\n",
    "        print(elemento)\n",
    "miLista = [2,3,\"donald\", True]\n",
    "mifuncionlista(miLista)\n",
    "\n",
    "\n"
   ]
  },
  {
   "cell_type": "code",
   "execution_count": 3,
   "metadata": {},
   "outputs": [
    {
     "data": {
      "text/plain": [
       "4"
      ]
     },
     "execution_count": 3,
     "metadata": {},
     "output_type": "execute_result"
    }
   ],
   "source": [
    "def funcionparametrodefecto(numero, potencia =2):\n",
    "    return numero ** potencia\n",
    "funcionparametrodefecto(2)"
   ]
  },
  {
   "cell_type": "code",
   "execution_count": 10,
   "metadata": {},
   "outputs": [
    {
     "name": "stdout",
     "output_type": "stream",
     "text": [
      "5.5\n"
     ]
    }
   ],
   "source": [
    "def promedio(valores):\n",
    "    return sum(valores) / len(valores)\n",
    "    \n",
    "\n",
    "valores = [ 2,4,6,10]\n",
    "print(promedio(valores))\n"
   ]
  },
  {
   "cell_type": "code",
   "execution_count": null,
   "metadata": {
    "collapsed": true
   },
   "outputs": [],
   "source": [
    "def parametrosnodeterminados(*args):\n",
    "    for elemento in args:\n",
    "        print(elemento)\n",
    "parametrosnodeterminados(1,2,3,4,5)     "
   ]
  },
  {
   "cell_type": "code",
   "execution_count": 23,
   "metadata": {},
   "outputs": [
    {
     "ename": "SyntaxError",
     "evalue": "Missing parentheses in call to 'print' (<ipython-input-23-da40451f0872>, line 3)",
     "output_type": "error",
     "traceback": [
      "\u001b[1;36m  File \u001b[1;32m\"<ipython-input-23-da40451f0872>\"\u001b[1;36m, line \u001b[1;32m3\u001b[0m\n\u001b[1;33m    print valores\u001b[0m\n\u001b[1;37m                ^\u001b[0m\n\u001b[1;31mSyntaxError\u001b[0m\u001b[1;31m:\u001b[0m Missing parentheses in call to 'print'\n"
     ]
    }
   ],
   "source": [
    "def mediana(valores):\n",
    "    valores.sort()\n",
    "    print valores                                                                                                                                                                       \n",
    "    if len(valores) % 2 == 0:                                                                      \n",
    "        n = len(valores)                                                                           \n",
    "        mediana = (valores[n/2-1]+ valores[n/2] )/2                                                      \n",
    "    else:                                                                                    \n",
    "        mediana =valores[len(valores)/2]                                                                 \n",
    "                                                                                         \n",
    "print(\"mediana\",  mediana())   "
   ]
  },
  {
   "cell_type": "code",
   "execution_count": 19,
   "metadata": {},
   "outputs": [],
   "source": [
    "def compararlista(lista1,lista2):\n",
    "    if len (lista1) > len (lista2):\n",
    "        print (\"la lista uno es mas grande que la lista 2\")\n",
    "    elif len (lista1) < len (lista2):\n",
    "        print (\"la lista dos es mas grande que la lista uno\")        \n",
    "    else:\n",
    "        print(\"las listas son iguales\")\n",
    "    \n",
    "            \n",
    "        \n",
    "      \n",
    "      \n",
    "     "
   ]
  },
  {
   "cell_type": "code",
   "execution_count": 20,
   "metadata": {
    "scrolled": true
   },
   "outputs": [
    {
     "name": "stdout",
     "output_type": "stream",
     "text": [
      "las listas son iguales\n"
     ]
    }
   ],
   "source": [
    "compararlista(lista1 =[4,6,6,8,3,2,9,7,5], lista2=[8,3,4,6,9,7,5,3,2])"
   ]
  },
  {
   "cell_type": "code",
   "execution_count": 39,
   "metadata": {},
   "outputs": [],
   "source": [
    "def indicedemasacorporal(peso,estatura):\n",
    "    imc =peso / estatura**2\n",
    "    return imc"
   ]
  },
  {
   "cell_type": "code",
   "execution_count": 41,
   "metadata": {},
   "outputs": [
    {
     "data": {
      "text/plain": [
       "22.582709172343712"
      ]
     },
     "execution_count": 41,
     "metadata": {},
     "output_type": "execute_result"
    }
   ],
   "source": [
    "indicedemasacorporal(60,1.63)"
   ]
  },
  {
   "cell_type": "code",
   "execution_count": null,
   "metadata": {
    "collapsed": true
   },
   "outputs": [],
   "source": []
  }
 ],
 "metadata": {
  "kernelspec": {
   "display_name": "Python 3",
   "language": "python",
   "name": "python3"
  },
  "language_info": {
   "codemirror_mode": {
    "name": "ipython",
    "version": 3
   },
   "file_extension": ".py",
   "mimetype": "text/x-python",
   "name": "python",
   "nbconvert_exporter": "python",
   "pygments_lexer": "ipython3",
   "version": "3.6.1"
  }
 },
 "nbformat": 4,
 "nbformat_minor": 2
}
